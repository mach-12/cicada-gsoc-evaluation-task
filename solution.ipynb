{
 "cells": [
  {
   "cell_type": "markdown",
   "metadata": {},
   "source": [
    "# Solution Notebook"
   ]
  },
  {
   "cell_type": "markdown",
   "metadata": {},
   "source": [
    "In this solution notebook we focus on these key tasks:\n",
    "1. Loading and visualization of the dataset\n",
    "2. Running model predictions and evaluating baseline\n",
    "3. Train model to improve score over this baseline\n",
    "4. Run evaluations and explain the working of both the given model and trained model"
   ]
  },
  {
   "cell_type": "markdown",
   "metadata": {},
   "source": [
    "## Table of Contents"
   ]
  },
  {
   "cell_type": "markdown",
   "metadata": {},
   "source": [
    "- [Imports](#imports)  \n",
    "- [Dataset Exploration](#dataset-exploration)  \n",
    "  - [Loading Dataset](#loading-dataset)  \n"
   ]
  },
  {
   "cell_type": "markdown",
   "metadata": {},
   "source": [
    "## Imports"
   ]
  },
  {
   "cell_type": "code",
   "execution_count": 1,
   "metadata": {},
   "outputs": [],
   "source": [
    "import numpy as np\n",
    "import pandas as pd\n",
    "import tensorflow as tf\n",
    "\n",
    "from scripts.dataset_loader import load_dataset"
   ]
  },
  {
   "cell_type": "markdown",
   "metadata": {},
   "source": [
    "## Dataset Exploration"
   ]
  },
  {
   "cell_type": "markdown",
   "metadata": {},
   "source": [
    "### Loading Dataset"
   ]
  },
  {
   "cell_type": "markdown",
   "metadata": {},
   "source": [
    "Let's load the dataset as a `tf.data.Dataset` object"
   ]
  },
  {
   "cell_type": "code",
   "execution_count": 5,
   "metadata": {},
   "outputs": [],
   "source": [
    "dataset, images, labels = load_dataset()"
   ]
  },
  {
   "cell_type": "markdown",
   "metadata": {},
   "source": [
    "From here we observe that there are **1000** images of size **16x16**. Each image either has the label as `1` or `0`"
   ]
  },
  {
   "cell_type": "code",
   "execution_count": 6,
   "metadata": {},
   "outputs": [
    {
     "name": "stdout",
     "output_type": "stream",
     "text": [
      ">> Labels\n",
      "Shape: (1000,)\n",
      "> Unique labels\n",
      "{0, 1}\n",
      "> Single Image Labels\n",
      "0\n",
      "1\n",
      "\n",
      ">> Images\n",
      "Shape: (1000, 16, 16)\n",
      "> Single Image\n",
      "Shape: (16, 16)\n",
      "[[2.1700313  0.3368357  0.5888369  0.6597585  1.138681   0.35873774\n",
      "  1.8572135  0.83504444 0.18155456 0.7893587  0.9517998  0.02187085\n",
      "  0.6317337  0.5083703  0.8277021  0.80548126]\n",
      " [1.3674951  0.30677652 0.140921   0.14598766 0.16792616 1.6860738\n",
      "  0.04102432 0.20599899 0.7848744  0.19453607 0.20928012 0.45434618\n",
      "  0.9031863  0.9356227  0.6061106  2.181677  ]\n",
      " [0.0622947  0.52064    0.48904428 1.5958955  0.49071908 2.7082717\n",
      "  0.06556757 0.2904863  0.2859103  1.0856764  0.05776405 1.1728171\n",
      "  1.5814979  1.3288999  0.01713689 1.1861597 ]\n",
      " [1.2270731  0.08372566 0.8707939  2.5772567  0.07647876 0.48341855\n",
      "  0.18920054 0.11365169 0.8503427  0.5787239  0.17180316 0.8009488\n",
      "  0.95969856 0.3596137  0.8661315  0.04501369]\n",
      " [0.2039771  2.4431734  0.35061747 1.838147   0.2763531  2.2010422\n",
      "  0.3528849  0.18543014 0.9194601  1.3772079  0.348033   0.49081576\n",
      "  0.4122565  0.8616309  0.10224951 0.28342405]\n",
      " [1.3701429  0.00722301 1.0636328  0.95150137 2.8016343  1.4773085\n",
      "  2.4364474  0.6176731  0.9278908  0.7583804  0.84553003 0.28306088\n",
      "  1.44567    0.46051314 1.6545689  0.0296421 ]\n",
      " [0.9644455  0.4365963  0.30531597 0.03141647 1.7951797  0.78420514\n",
      "  0.37441    1.9423953  2.7352064  0.09505937 0.80495423 0.5176745\n",
      "  0.44034404 6.263326   0.7072363  0.83858377]\n",
      " [2.0808108  0.9884091  0.8254064  2.5225067  1.3531259  0.28169143\n",
      "  0.05037374 0.33597526 1.4198418  1.147752   1.1086587  0.9791289\n",
      "  0.22603762 0.14908445 2.1022289  0.12644002]\n",
      " [2.018614   0.39396557 1.7338684  0.02718286 0.31777707 0.14614353\n",
      "  0.04856249 1.1998304  1.2543324  0.21666297 0.6048095  0.45370358\n",
      "  1.5364536  0.31477976 4.227247   0.69748515]\n",
      " [0.9030749  0.39064482 3.6945372  1.7354907  2.2073963  0.41618285\n",
      "  0.4369393  0.01942044 0.7132111  0.97803295 0.43696222 0.3285081\n",
      "  0.04684231 3.246599   1.146276   0.14766294]\n",
      " [3.1351829  2.5111928  0.03261486 1.4486709  0.20612629 0.47908714\n",
      "  2.2363782  1.3401296  2.6646261  1.0858966  1.6888644  0.38949317\n",
      "  0.8845279  0.3436545  1.2181038  2.2349753 ]\n",
      " [1.3170681  1.1954864  0.01137393 0.21881393 4.740498   2.363363\n",
      "  0.5481172  0.03422594 0.675582   0.23554207 0.6497818  0.58628404\n",
      "  1.7794099  1.5384067  0.46831393 2.88563   ]\n",
      " [2.5983548  0.18839253 1.2789029  0.1329715  0.7842604  1.7134584\n",
      "  1.1109635  0.11796215 1.1242008  0.1910168  0.6533714  0.5888517\n",
      "  1.3613281  0.77146924 0.63787293 2.551912  ]\n",
      " [0.51074505 0.5752917  0.62855196 0.676096   1.8488578  4.119417\n",
      "  1.0470946  0.8240156  0.4679284  1.1677711  1.141236   1.9449149\n",
      "  0.4571798  1.8957605  2.0736456  0.35436434]\n",
      " [0.6859961  0.21723247 0.2894267  0.6371798  0.34709606 1.3801917\n",
      "  0.08907029 0.1576524  0.3014743  0.15928651 0.30328685 0.29639333\n",
      "  0.6616479  1.2271303  0.639774   1.4116265 ]\n",
      " [0.90336365 1.5894061  0.84829724 0.10961777 1.1685578  0.3085378\n",
      "  1.5704226  0.20265609 0.4639477  0.81323767 1.0681841  2.697987\n",
      "  1.5235523  2.5597804  0.32165244 0.32712036]]\n"
     ]
    }
   ],
   "source": [
    "print(\">> Labels\")\n",
    "print(\"Shape:\", labels.shape)\n",
    "\n",
    "print(\"> Unique labels\")\n",
    "print(set(labels))\n",
    "\n",
    "print(\"> Single Image Labels\")\n",
    "print(labels[0])\n",
    "print(labels[800])\n",
    "\n",
    "print()\n",
    "print(\">> Images\")\n",
    "print(\"Shape:\", images.shape)\n",
    "\n",
    "print(\"> Single Image\")\n",
    "print(\"Shape:\", images[0, :, :].shape)\n",
    "print(images[0, :, :])"
   ]
  }
 ],
 "metadata": {
  "kernelspec": {
   "display_name": "Python 3",
   "language": "python",
   "name": "python3"
  },
  "language_info": {
   "codemirror_mode": {
    "name": "ipython",
    "version": 3
   },
   "file_extension": ".py",
   "mimetype": "text/x-python",
   "name": "python",
   "nbconvert_exporter": "python",
   "pygments_lexer": "ipython3",
   "version": "3.11.11"
  }
 },
 "nbformat": 4,
 "nbformat_minor": 2
}
